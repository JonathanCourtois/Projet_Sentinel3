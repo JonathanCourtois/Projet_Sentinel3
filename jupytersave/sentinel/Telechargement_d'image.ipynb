{
 "cells": [
  {
   "cell_type": "code",
   "execution_count": null,
   "metadata": {},
   "outputs": [],
   "source": [
    "def Download_olci_data(user,password,url,footprint,datestart,dateend,zip_file_path,image_number):\n",
    "    from snappy import ProductIO\n",
    "    from snappy import jpy\n",
    "    from snappy import GPF\n",
    "\n",
    "    import numpy as np\n",
    "\n",
    "    from sentinelsat.sentinel import SentinelAPI, read_geojson, geojson_to_wkt\n",
    "    from datetime import date\n",
    "\n",
    "    import zipfile\n",
    "    import os \n",
    "    #user = 'jonathanc'\n",
    "    #password = 'Tutorat2019'\n",
    "    #api = SentinelAPI(user, password, 'https://scihub.copernicus.eu/dhus')\n",
    "    #url = 'https://coda.eumetsat.int'\n",
    "    api = SentinelAPI(user, password, url)\n",
    "\n",
    "    #footprint = 'POLYGON ((3.632678257283426 44.218520813901634, 5.593941712716586 43.91153565143112,5.122306465193042 42.40131912218008, 3.208397257788463 42.706154058381806,3.632678257283426 44.218520813901634))'\n",
    "    #date = ('20191001','NOW')\n",
    "    products = api.query(footprint,\n",
    "                         date = (datestart,dateend),\n",
    "                         platformname = 'Sentinel-3',\n",
    "                         area_relation='Intersects', \n",
    "                         producttype='OL_2_WFR___',\n",
    "                         #timeliness='Non Time Critical',\n",
    "                         instrumentshortname = 'OLCI',\n",
    "                         onlinequalitycheck = 'PASSED',\n",
    "                         productlevel = 'L2')\n",
    "    # convert to Pandas DataFrame\n",
    "    products_df = api.to_dataframe(products)\n",
    "    # sort and limit to first 5 sorted products\n",
    "    products_df_sorted = products_df.sort_values(['salinewatercoverpercentage', 'ingestiondate'], ascending=[False, True])\n",
    "    products_df_sorted = products_df_sorted.head(image_number)\n",
    "    # download sorted and reduced products\n",
    "    api.download_all(products_df_sorted.index)\n",
    "    #zip_file_path = \"/home/courtois/jupyter-sentinel\"\n",
    "    file_list = os.listdir(zip_file_path+\"/\")\n",
    "    # select the directory where the files are and where you want to unzip it\n",
    "    abs_path = []\n",
    "    # list for the .zip file to unzip\n",
    "    c=0\n",
    "    for a in file_list:\n",
    "        if a.endswith(\".zip\"):  # select only the .zip files in the folder\n",
    "            x = zip_file_path+'/'+a\n",
    "            c += 1\n",
    "            print x\n",
    "            abs_path.append(x)  # put the .zip file in the list\n",
    "    for f in abs_path:\n",
    "        zip=zipfile.ZipFile(f)\n",
    "        zip.extractall(zip_file_path)  # unzip the file in the zip_file_path\n",
    "        os.remove(f)   # delet the .zip file\n",
    "        \n",
    "    print(\"File in :\" + zip_file_path)\n",
    "    print(\"DONE\")"
   ]
  },
  {
   "cell_type": "code",
   "execution_count": null,
   "metadata": {},
   "outputs": [],
   "source": [
    "user = 'jonathanc'\n",
    "password = 'Tutorat2019'\n",
    "url = 'https://coda.eumetsat.int'\n",
    "#delta du rhone\n",
    "footprint = 'POLYGON ((3.632678257283426 44.218520813901634, 5.593941712716586 43.91153565143112,5.122306465193042 42.40131912218008, 3.208397257788463 42.706154058381806,3.632678257283426 44.218520813901634))'\n",
    "#australie mundo island\n",
    "footprint = 'POLYGON ((138.9714316874765 -35.12369943285148, 139.587378163029 -35.28580919523616,139.34742465145243 -35.900220961012316, 138.72728634440375 -35.73680981767152,138.9714316874765 -35.12369943285148))'\n",
    "datestart = ('20191001')\n",
    "dateend = ('NOW')\n",
    "zip_file_path = \"/home/courtois/jupyter-sentinel\"\n",
    "image_number = 10\n",
    "Download_olci_data(user,password,url,footprint,datestart,dateend,zip_file_path,image_number)"
   ]
  }
 ],
 "metadata": {
  "kernelspec": {
   "display_name": "Python 2",
   "language": "python",
   "name": "python2"
  },
  "language_info": {
   "codemirror_mode": {
    "name": "ipython",
    "version": 2
   },
   "file_extension": ".py",
   "mimetype": "text/x-python",
   "name": "python",
   "nbconvert_exporter": "python",
   "pygments_lexer": "ipython2",
   "version": "2.7.16"
  }
 },
 "nbformat": 4,
 "nbformat_minor": 2
}
